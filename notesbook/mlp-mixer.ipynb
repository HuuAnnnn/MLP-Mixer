{
 "cells": [
  {
   "cell_type": "code",
   "execution_count": 1,
   "id": "90f6c4bf",
   "metadata": {
    "execution": {
     "iopub.execute_input": "2024-02-15T07:30:49.901123Z",
     "iopub.status.busy": "2024-02-15T07:30:49.900723Z",
     "iopub.status.idle": "2024-02-15T07:31:04.132480Z",
     "shell.execute_reply": "2024-02-15T07:31:04.131303Z"
    },
    "papermill": {
     "duration": 14.242128,
     "end_time": "2024-02-15T07:31:04.135002",
     "exception": false,
     "start_time": "2024-02-15T07:30:49.892874",
     "status": "completed"
    },
    "tags": []
   },
   "outputs": [
    {
     "name": "stdout",
     "output_type": "stream",
     "text": [
      "Collecting torcheval\r\n",
      "  Obtaining dependency information for torcheval from https://files.pythonhosted.org/packages/e4/de/e7abc784b00de9d05999657d29187f1f7a3406ed10ecaf164de06482608f/torcheval-0.0.7-py3-none-any.whl.metadata\r\n",
      "  Downloading torcheval-0.0.7-py3-none-any.whl.metadata (8.6 kB)\r\n",
      "Requirement already satisfied: typing-extensions in /opt/conda/lib/python3.10/site-packages (from torcheval) (4.5.0)\r\n",
      "Downloading torcheval-0.0.7-py3-none-any.whl (179 kB)\r\n",
      "\u001b[2K   \u001b[90m━━━━━━━━━━━━━━━━━━━━━━━━━━━━━━━━━━━━━━━━\u001b[0m \u001b[32m179.2/179.2 kB\u001b[0m \u001b[31m3.7 MB/s\u001b[0m eta \u001b[36m0:00:00\u001b[0m\r\n",
      "\u001b[?25hInstalling collected packages: torcheval\r\n",
      "Successfully installed torcheval-0.0.7\r\n"
     ]
    }
   ],
   "source": [
    "!pip install torcheval"
   ]
  },
  {
   "cell_type": "code",
   "execution_count": 2,
   "id": "71883536",
   "metadata": {
    "execution": {
     "iopub.execute_input": "2024-02-15T07:31:04.149028Z",
     "iopub.status.busy": "2024-02-15T07:31:04.148676Z",
     "iopub.status.idle": "2024-02-15T07:31:09.428053Z",
     "shell.execute_reply": "2024-02-15T07:31:09.427110Z"
    },
    "papermill": {
     "duration": 5.289006,
     "end_time": "2024-02-15T07:31:09.430495",
     "exception": false,
     "start_time": "2024-02-15T07:31:04.141489",
     "status": "completed"
    },
    "tags": []
   },
   "outputs": [],
   "source": [
    "import torch\n",
    "import torch.nn.functional as F\n",
    "import torchvision\n",
    "import torchvision.transforms as transforms\n",
    "\n",
    "import numpy as np\n",
    "import pandas as pd\n",
    "import cv2\n",
    "import os\n",
    "\n",
    "from tqdm import tqdm\n",
    "from torcheval.metrics import MulticlassAccuracy\n",
    "from torch.utils.data import Dataset, DataLoader\n",
    "import matplotlib.pyplot as plt"
   ]
  },
  {
   "cell_type": "code",
   "execution_count": 3,
   "id": "826d8e4e",
   "metadata": {
    "execution": {
     "iopub.execute_input": "2024-02-15T07:31:09.445013Z",
     "iopub.status.busy": "2024-02-15T07:31:09.444518Z",
     "iopub.status.idle": "2024-02-15T07:31:09.449020Z",
     "shell.execute_reply": "2024-02-15T07:31:09.448168Z"
    },
    "papermill": {
     "duration": 0.013842,
     "end_time": "2024-02-15T07:31:09.451118",
     "exception": false,
     "start_time": "2024-02-15T07:31:09.437276",
     "status": "completed"
    },
    "tags": []
   },
   "outputs": [],
   "source": [
    "BATCH_SIZE = 256\n",
    "EPOCHS = 100\n",
    "LR = 1e-3"
   ]
  },
  {
   "cell_type": "code",
   "execution_count": 4,
   "id": "3e824f06",
   "metadata": {
    "execution": {
     "iopub.execute_input": "2024-02-15T07:31:09.464919Z",
     "iopub.status.busy": "2024-02-15T07:31:09.464613Z",
     "iopub.status.idle": "2024-02-15T07:31:15.556646Z",
     "shell.execute_reply": "2024-02-15T07:31:15.555808Z"
    },
    "papermill": {
     "duration": 6.101796,
     "end_time": "2024-02-15T07:31:15.559226",
     "exception": false,
     "start_time": "2024-02-15T07:31:09.457430",
     "status": "completed"
    },
    "tags": []
   },
   "outputs": [
    {
     "name": "stdout",
     "output_type": "stream",
     "text": [
      "Downloading https://www.cs.toronto.edu/~kriz/cifar-10-python.tar.gz to ./data/cifar-10-python.tar.gz\n"
     ]
    },
    {
     "name": "stderr",
     "output_type": "stream",
     "text": [
      "100%|██████████| 170498071/170498071 [00:02<00:00, 73489326.49it/s]\n"
     ]
    },
    {
     "name": "stdout",
     "output_type": "stream",
     "text": [
      "Extracting ./data/cifar-10-python.tar.gz to ./data\n",
      "Files already downloaded and verified\n"
     ]
    }
   ],
   "source": [
    "transform = transforms.Compose(\n",
    "    [transforms.ToTensor(),\n",
    "     transforms.Normalize((0.5, 0.5, 0.5), (0.5, 0.5, 0.5))])\n",
    "\n",
    "trainset = torchvision.datasets.CIFAR10(root='./data', train=True,\n",
    "                                        download=True, transform=transform)\n",
    "train_loader = torch.utils.data.DataLoader(trainset, batch_size=BATCH_SIZE,\n",
    "                                          shuffle=True, num_workers=2)\n",
    "\n",
    "testset = torchvision.datasets.CIFAR10(root='./data', train=False,\n",
    "                                       download=True, transform=transform)\n",
    "total_size = len(testset)\n",
    "val_limit = int(0.8 * total_size)\n",
    "test_limit = total_size - val_limit\n",
    "\n",
    "val, test = torch.utils.data.random_split(testset, [val_limit, test_limit])\n",
    "\n",
    "test_loader = torch.utils.data.DataLoader(test, batch_size=BATCH_SIZE,\n",
    "                                         shuffle=False, num_workers=2)\n",
    "\n",
    "val_loader = torch.utils.data.DataLoader(val, batch_size=BATCH_SIZE,\n",
    "                                         shuffle=False, num_workers=2)\n",
    "\n",
    "classes = ('plane', 'car', 'bird', 'cat',\n",
    "           'deer', 'dog', 'frog', 'horse', 'ship', 'truck')\n",
    "\n",
    "num_classes = len(classes)"
   ]
  },
  {
   "cell_type": "code",
   "execution_count": 5,
   "id": "1a38f10f",
   "metadata": {
    "execution": {
     "iopub.execute_input": "2024-02-15T07:31:15.577854Z",
     "iopub.status.busy": "2024-02-15T07:31:15.577481Z",
     "iopub.status.idle": "2024-02-15T07:31:15.882407Z",
     "shell.execute_reply": "2024-02-15T07:31:15.881183Z"
    },
    "papermill": {
     "duration": 0.316508,
     "end_time": "2024-02-15T07:31:15.884593",
     "exception": false,
     "start_time": "2024-02-15T07:31:15.568085",
     "status": "completed"
    },
    "tags": []
   },
   "outputs": [
    {
     "name": "stdout",
     "output_type": "stream",
     "text": [
      "torch.Size([256, 3, 32, 32]) torch.Size([256])\n"
     ]
    }
   ],
   "source": [
    "X, y = next(train_loader._get_iterator())\n",
    "\n",
    "print(X.shape, y.shape)"
   ]
  },
  {
   "cell_type": "code",
   "execution_count": 6,
   "id": "a73c9f08",
   "metadata": {
    "execution": {
     "iopub.execute_input": "2024-02-15T07:31:15.904503Z",
     "iopub.status.busy": "2024-02-15T07:31:15.903678Z",
     "iopub.status.idle": "2024-02-15T07:31:15.911380Z",
     "shell.execute_reply": "2024-02-15T07:31:15.910373Z"
    },
    "papermill": {
     "duration": 0.019949,
     "end_time": "2024-02-15T07:31:15.913556",
     "exception": false,
     "start_time": "2024-02-15T07:31:15.893607",
     "status": "completed"
    },
    "tags": []
   },
   "outputs": [],
   "source": [
    "class EarlyStopper:\n",
    "    def __init__(self, patience=20, min_delta=0):\n",
    "        self.patience = patience\n",
    "        self.min_delta = min_delta\n",
    "        self.counter = 0\n",
    "        self.min_validation_loss = float('inf')\n",
    "\n",
    "    def __call__(self, validation_loss):\n",
    "        if validation_loss < self.min_validation_loss:\n",
    "            self.min_validation_loss = validation_loss\n",
    "            self.counter = 0\n",
    "        elif validation_loss > (self.min_validation_loss + self.min_delta):\n",
    "            self.counter += 1\n",
    "            if self.counter >= self.patience:\n",
    "                return True\n",
    "        return False"
   ]
  },
  {
   "cell_type": "code",
   "execution_count": 7,
   "id": "78a5f119",
   "metadata": {
    "execution": {
     "iopub.execute_input": "2024-02-15T07:31:15.932763Z",
     "iopub.status.busy": "2024-02-15T07:31:15.932391Z",
     "iopub.status.idle": "2024-02-15T07:31:15.947574Z",
     "shell.execute_reply": "2024-02-15T07:31:15.946693Z"
    },
    "papermill": {
     "duration": 0.027254,
     "end_time": "2024-02-15T07:31:15.949619",
     "exception": false,
     "start_time": "2024-02-15T07:31:15.922365",
     "status": "completed"
    },
    "tags": []
   },
   "outputs": [],
   "source": [
    "class MLPBlock(torch.nn.Module):\n",
    "    def __init__(self, in_channels: int, hidden_channels: int, dropout: float = 0.2):\n",
    "        super(MLPBlock, self).__init__()\n",
    "        self.block = torch.nn.Sequential(\n",
    "            torch.nn.Linear(in_channels, hidden_channels),\n",
    "            torch.nn.GELU(),\n",
    "            torch.nn.Dropout(dropout),\n",
    "            torch.nn.Linear(hidden_channels, in_channels),\n",
    "            torch.nn.Dropout(dropout),\n",
    "        )\n",
    "\n",
    "    def forward(self, x: torch.Tensor) -> torch.Tensor:\n",
    "        return self.block(x)\n",
    "\n",
    "\n",
    "class MixerBlock(torch.nn.Module):\n",
    "    def __init__(self, num_patches: int, dim: int, token_dim: int, channel_dim: int, dropout: float = 0.2):\n",
    "        super(MixerBlock, self).__init__()\n",
    "        self.token_mixing = MLPBlock(num_patches, token_dim, dropout)\n",
    "        self.channels_mixing = MLPBlock(dim, channel_dim, dropout)\n",
    "        self.pre_norm = torch.nn.LayerNorm(dim)\n",
    "        self.post_norm = torch.nn.LayerNorm(dim)\n",
    "\n",
    "    def forward(self, x: torch.Tensor) -> torch.Tensor:\n",
    "        residual = x.clone()\n",
    "        h = self.pre_norm(x)\n",
    "        h = h.transpose(-1, -2)\n",
    "        h = self.token_mixing(h)\n",
    "        h = h.transpose(-1, -2)\n",
    "\n",
    "        h = h + residual\n",
    "        residual = h.clone()\n",
    "        h = self.post_norm(h)\n",
    "        h = self.channels_mixing(h)\n",
    "\n",
    "        h = h + residual\n",
    "\n",
    "        return h\n",
    "\n",
    "\n",
    "class PatchEmbedding(torch.nn.Module):\n",
    "    def __init__(self, in_channels: int, hidden_dim: int, width: int, patch_size: int):\n",
    "        super().__init__()\n",
    "        self.width = width\n",
    "        self.patch_size = patch_size\n",
    "        self.per_patch_fc = torch.nn.Conv2d(in_channels, hidden_dim, (patch_size, patch_size), patch_size)\n",
    "\n",
    "    def forward(self, x: torch.Tensor):\n",
    "        patches = self.per_patch_fc(x)\n",
    "        B, C, W, H = patches.shape\n",
    "        return patches.reshape(B, W * H, C)"
   ]
  },
  {
   "cell_type": "code",
   "execution_count": 8,
   "id": "93ebc875",
   "metadata": {
    "execution": {
     "iopub.execute_input": "2024-02-15T07:31:15.968287Z",
     "iopub.status.busy": "2024-02-15T07:31:15.967983Z",
     "iopub.status.idle": "2024-02-15T07:31:15.977720Z",
     "shell.execute_reply": "2024-02-15T07:31:15.976772Z"
    },
    "papermill": {
     "duration": 0.021175,
     "end_time": "2024-02-15T07:31:15.979582",
     "exception": false,
     "start_time": "2024-02-15T07:31:15.958407",
     "status": "completed"
    },
    "tags": []
   },
   "outputs": [],
   "source": [
    "class MLPMixer(torch.nn.Module):\n",
    "    def __init__(\n",
    "        self,\n",
    "        in_channels: int,\n",
    "        image_size: tuple[int, int],\n",
    "        patch_size: int,\n",
    "        hidden_dim: int,\n",
    "        num_mixers: int,\n",
    "        num_classes: int,\n",
    "        token_dim: int,\n",
    "        channels_dim: int,\n",
    "        dropout: float = 0.2,\n",
    "    ) -> None:\n",
    "        super(MLPMixer, self).__init__()\n",
    "        W, H = image_size\n",
    "        num_patches = (W * H) // (patch_size**2)\n",
    "        self.patch_embedding = PatchEmbedding(in_channels, hidden_dim, W, patch_size)\n",
    "        self.mixers = torch.nn.Sequential(\n",
    "            *[MixerBlock(num_patches, hidden_dim, token_dim, channels_dim, dropout) for _ in range(num_mixers)]\n",
    "        )\n",
    "        self.g_avg_pooling = torch.nn.LayerNorm(hidden_dim)\n",
    "        self.dropout = torch.nn.Dropout(dropout)\n",
    "        self.fc = torch.nn.Linear(hidden_dim, num_classes)\n",
    "\n",
    "    def forward(self, x: torch.Tensor):\n",
    "        h = self.patch_embedding(x)\n",
    "        h = self.mixers(h)\n",
    "        h = self.g_avg_pooling(h)\n",
    "        h = h.mean(dim = 1)\n",
    "        h = self.dropout(h)\n",
    "        h = self.fc(h)\n",
    "        return F.softmax(h, dim=1)"
   ]
  },
  {
   "cell_type": "code",
   "execution_count": 9,
   "id": "54a9ac5a",
   "metadata": {
    "execution": {
     "iopub.execute_input": "2024-02-15T07:31:15.997575Z",
     "iopub.status.busy": "2024-02-15T07:31:15.997295Z",
     "iopub.status.idle": "2024-02-15T07:31:16.150408Z",
     "shell.execute_reply": "2024-02-15T07:31:16.149512Z"
    },
    "papermill": {
     "duration": 0.164994,
     "end_time": "2024-02-15T07:31:16.152921",
     "exception": false,
     "start_time": "2024-02-15T07:31:15.987927",
     "status": "completed"
    },
    "tags": []
   },
   "outputs": [],
   "source": [
    "model = MLPMixer(3, (32, 32), 4, 512, 8, num_classes, token_dim=256, channels_dim=2048, dropout=0.2)"
   ]
  },
  {
   "cell_type": "code",
   "execution_count": 10,
   "id": "a6b2a329",
   "metadata": {
    "execution": {
     "iopub.execute_input": "2024-02-15T07:31:16.173010Z",
     "iopub.status.busy": "2024-02-15T07:31:16.172636Z",
     "iopub.status.idle": "2024-02-15T07:31:16.232887Z",
     "shell.execute_reply": "2024-02-15T07:31:16.231777Z"
    },
    "papermill": {
     "duration": 0.072828,
     "end_time": "2024-02-15T07:31:16.235184",
     "exception": false,
     "start_time": "2024-02-15T07:31:16.162356",
     "status": "completed"
    },
    "tags": []
   },
   "outputs": [],
   "source": [
    "device = torch.device(\"cuda\" if torch.cuda.is_available() else \"cpu\")"
   ]
  },
  {
   "cell_type": "code",
   "execution_count": 11,
   "id": "ee218b91",
   "metadata": {
    "execution": {
     "iopub.execute_input": "2024-02-15T07:31:16.253673Z",
     "iopub.status.busy": "2024-02-15T07:31:16.253350Z",
     "iopub.status.idle": "2024-02-15T07:31:16.429116Z",
     "shell.execute_reply": "2024-02-15T07:31:16.428079Z"
    },
    "papermill": {
     "duration": 0.187696,
     "end_time": "2024-02-15T07:31:16.431639",
     "exception": false,
     "start_time": "2024-02-15T07:31:16.243943",
     "status": "completed"
    },
    "tags": []
   },
   "outputs": [],
   "source": [
    "model = model.to(device)"
   ]
  },
  {
   "cell_type": "code",
   "execution_count": 12,
   "id": "80d3d336",
   "metadata": {
    "execution": {
     "iopub.execute_input": "2024-02-15T07:31:16.450950Z",
     "iopub.status.busy": "2024-02-15T07:31:16.450544Z",
     "iopub.status.idle": "2024-02-15T07:31:16.456661Z",
     "shell.execute_reply": "2024-02-15T07:31:16.455728Z"
    },
    "papermill": {
     "duration": 0.018592,
     "end_time": "2024-02-15T07:31:16.458897",
     "exception": false,
     "start_time": "2024-02-15T07:31:16.440305",
     "status": "completed"
    },
    "tags": []
   },
   "outputs": [
    {
     "name": "stdout",
     "output_type": "stream",
     "text": [
      "17,110,026\n"
     ]
    }
   ],
   "source": [
    "num_params = sum(layer.numel() for layer in model.parameters())\n",
    "print(f\"{num_params:,}\")"
   ]
  },
  {
   "cell_type": "code",
   "execution_count": 13,
   "id": "b8b0059a",
   "metadata": {
    "execution": {
     "iopub.execute_input": "2024-02-15T07:31:16.478013Z",
     "iopub.status.busy": "2024-02-15T07:31:16.477638Z",
     "iopub.status.idle": "2024-02-15T07:31:16.483950Z",
     "shell.execute_reply": "2024-02-15T07:31:16.483039Z"
    },
    "papermill": {
     "duration": 0.01849,
     "end_time": "2024-02-15T07:31:16.486036",
     "exception": false,
     "start_time": "2024-02-15T07:31:16.467546",
     "status": "completed"
    },
    "tags": []
   },
   "outputs": [],
   "source": [
    "optimizer = torch.optim.Adam(model.parameters(), LR)\n",
    "criterion = torch.nn.CrossEntropyLoss()\n",
    "early_stopping = EarlyStopper(patience=20)"
   ]
  },
  {
   "cell_type": "code",
   "execution_count": 14,
   "id": "aff927ec",
   "metadata": {
    "execution": {
     "iopub.execute_input": "2024-02-15T07:31:16.504412Z",
     "iopub.status.busy": "2024-02-15T07:31:16.504107Z",
     "iopub.status.idle": "2024-02-15T09:18:09.641239Z",
     "shell.execute_reply": "2024-02-15T09:18:09.639773Z"
    },
    "papermill": {
     "duration": 6413.148942,
     "end_time": "2024-02-15T09:18:09.643515",
     "exception": false,
     "start_time": "2024-02-15T07:31:16.494573",
     "status": "completed"
    },
    "tags": []
   },
   "outputs": [
    {
     "name": "stderr",
     "output_type": "stream",
     "text": [
      "Epoch 1/100: 100%|██████████| 196/196 [01:13<00:00,  2.68it/s, loss=2.1344, val_loss=2.0477, acc=0.3169, val_acc=0.4100]\n",
      "Epoch 2/100: 100%|██████████| 196/196 [01:12<00:00,  2.72it/s, loss=2.0126, val_loss=1.9924, acc=0.4433, val_acc=0.4683]\n",
      "Epoch 3/100: 100%|██████████| 196/196 [01:12<00:00,  2.72it/s, loss=1.9603, val_loss=1.9538, acc=0.4975, val_acc=0.5027]\n",
      "Epoch 4/100: 100%|██████████| 196/196 [01:12<00:00,  2.72it/s, loss=1.9156, val_loss=1.9210, acc=0.5424, val_acc=0.5356]\n",
      "Epoch 5/100: 100%|██████████| 196/196 [01:12<00:00,  2.72it/s, loss=1.8783, val_loss=1.9178, acc=0.5804, val_acc=0.5364]\n",
      "Epoch 6/100: 100%|██████████| 196/196 [01:12<00:00,  2.72it/s, loss=1.8459, val_loss=1.9134, acc=0.6143, val_acc=0.5424]\n",
      "Epoch 7/100: 100%|██████████| 196/196 [01:12<00:00,  2.72it/s, loss=1.8186, val_loss=1.8916, acc=0.6417, val_acc=0.5646]\n",
      "Epoch 8/100: 100%|██████████| 196/196 [01:12<00:00,  2.72it/s, loss=1.7907, val_loss=1.8733, acc=0.6694, val_acc=0.5839]\n",
      "Epoch 9/100: 100%|██████████| 196/196 [01:12<00:00,  2.72it/s, loss=1.7628, val_loss=1.8641, acc=0.6988, val_acc=0.5915]\n",
      "Epoch 10/100: 100%|██████████| 196/196 [01:12<00:00,  2.72it/s, loss=1.7427, val_loss=1.8572, acc=0.7180, val_acc=0.6001]\n",
      "Epoch 11/100: 100%|██████████| 196/196 [01:12<00:00,  2.72it/s, loss=1.7202, val_loss=1.8578, acc=0.7420, val_acc=0.5994]\n",
      "Epoch 12/100: 100%|██████████| 196/196 [01:12<00:00,  2.72it/s, loss=1.7019, val_loss=1.8502, acc=0.7591, val_acc=0.6071]\n",
      "Epoch 13/100: 100%|██████████| 196/196 [01:12<00:00,  2.72it/s, loss=1.6858, val_loss=1.8445, acc=0.7759, val_acc=0.6114]\n",
      "Epoch 14/100: 100%|██████████| 196/196 [01:12<00:00,  2.72it/s, loss=1.6696, val_loss=1.8415, acc=0.7912, val_acc=0.6146]\n",
      "Epoch 15/100: 100%|██████████| 196/196 [01:12<00:00,  2.72it/s, loss=1.6594, val_loss=1.8523, acc=0.8021, val_acc=0.6060]\n",
      "Epoch 16/100: 100%|██████████| 196/196 [01:12<00:00,  2.72it/s, loss=1.6471, val_loss=1.8376, acc=0.8140, val_acc=0.6189]\n",
      "Epoch 17/100: 100%|██████████| 196/196 [01:12<00:00,  2.72it/s, loss=1.6385, val_loss=1.8366, acc=0.8225, val_acc=0.6215]\n",
      "Epoch 18/100: 100%|██████████| 196/196 [01:12<00:00,  2.72it/s, loss=1.6295, val_loss=1.8351, acc=0.8316, val_acc=0.6204]\n",
      "Epoch 19/100: 100%|██████████| 196/196 [01:12<00:00,  2.72it/s, loss=1.6217, val_loss=1.8321, acc=0.8399, val_acc=0.6271]\n",
      "Epoch 20/100: 100%|██████████| 196/196 [01:12<00:00,  2.72it/s, loss=1.6186, val_loss=1.8317, acc=0.8429, val_acc=0.6275]\n",
      "Epoch 21/100: 100%|██████████| 196/196 [01:12<00:00,  2.72it/s, loss=1.6112, val_loss=1.8342, acc=0.8506, val_acc=0.6241]\n",
      "Epoch 22/100: 100%|██████████| 196/196 [01:12<00:00,  2.72it/s, loss=1.6105, val_loss=1.8343, acc=0.8510, val_acc=0.6229]\n",
      "Epoch 23/100: 100%|██████████| 196/196 [01:12<00:00,  2.72it/s, loss=1.6036, val_loss=1.8333, acc=0.8577, val_acc=0.6242]\n",
      "Epoch 24/100: 100%|██████████| 196/196 [01:12<00:00,  2.72it/s, loss=1.6011, val_loss=1.8273, acc=0.8604, val_acc=0.6304]\n",
      "Epoch 25/100: 100%|██████████| 196/196 [01:12<00:00,  2.72it/s, loss=1.5962, val_loss=1.8262, acc=0.8649, val_acc=0.6321]\n",
      "Epoch 26/100: 100%|██████████| 196/196 [01:12<00:00,  2.72it/s, loss=1.5930, val_loss=1.8264, acc=0.8683, val_acc=0.6316]\n",
      "Epoch 27/100: 100%|██████████| 196/196 [01:12<00:00,  2.72it/s, loss=1.5900, val_loss=1.8317, acc=0.8713, val_acc=0.6286]\n",
      "Epoch 28/100: 100%|██████████| 196/196 [01:12<00:00,  2.72it/s, loss=1.5869, val_loss=1.8414, acc=0.8744, val_acc=0.6154]\n",
      "Epoch 29/100: 100%|██████████| 196/196 [01:12<00:00,  2.72it/s, loss=1.5823, val_loss=1.8357, acc=0.8792, val_acc=0.6220]\n",
      "Epoch 30/100: 100%|██████████| 196/196 [01:12<00:00,  2.72it/s, loss=1.5822, val_loss=1.8326, acc=0.8784, val_acc=0.6250]\n",
      "Epoch 31/100: 100%|██████████| 196/196 [01:12<00:00,  2.72it/s, loss=1.5777, val_loss=1.8272, acc=0.8834, val_acc=0.6309]\n",
      "Epoch 32/100: 100%|██████████| 196/196 [01:12<00:00,  2.72it/s, loss=1.5781, val_loss=1.8287, acc=0.8826, val_acc=0.6304]\n",
      "Epoch 33/100: 100%|██████████| 196/196 [01:12<00:00,  2.72it/s, loss=1.5757, val_loss=1.8290, acc=0.8855, val_acc=0.6295]\n",
      "Epoch 34/100: 100%|██████████| 196/196 [01:12<00:00,  2.72it/s, loss=1.5751, val_loss=1.8352, acc=0.8864, val_acc=0.6206]\n",
      "Epoch 35/100: 100%|██████████| 196/196 [01:12<00:00,  2.72it/s, loss=1.5729, val_loss=1.8308, acc=0.8881, val_acc=0.6281]\n",
      "Epoch 36/100: 100%|██████████| 196/196 [01:12<00:00,  2.72it/s, loss=1.5741, val_loss=1.8289, acc=0.8868, val_acc=0.6295]\n",
      "Epoch 37/100: 100%|██████████| 196/196 [01:12<00:00,  2.72it/s, loss=1.5707, val_loss=1.8304, acc=0.8906, val_acc=0.6294]\n",
      "Epoch 38/100: 100%|██████████| 196/196 [01:12<00:00,  2.72it/s, loss=1.5687, val_loss=1.8318, acc=0.8926, val_acc=0.6226]\n",
      "Epoch 39/100: 100%|██████████| 196/196 [01:11<00:00,  2.72it/s, loss=1.5678, val_loss=1.8275, acc=0.8935, val_acc=0.6319]\n",
      "Epoch 40/100: 100%|██████████| 196/196 [01:12<00:00,  2.72it/s, loss=1.5650, val_loss=1.8243, acc=0.8963, val_acc=0.6335]\n",
      "Epoch 41/100: 100%|██████████| 196/196 [01:11<00:00,  2.72it/s, loss=1.5615, val_loss=1.8351, acc=0.8996, val_acc=0.6236]\n",
      "Epoch 42/100: 100%|██████████| 196/196 [01:11<00:00,  2.72it/s, loss=1.5609, val_loss=1.8298, acc=0.9001, val_acc=0.6255]\n",
      "Epoch 43/100: 100%|██████████| 196/196 [01:12<00:00,  2.72it/s, loss=1.5615, val_loss=1.8309, acc=0.8994, val_acc=0.6276]\n",
      "Epoch 44/100: 100%|██████████| 196/196 [01:11<00:00,  2.72it/s, loss=1.5588, val_loss=1.8376, acc=0.9024, val_acc=0.6202]\n",
      "Epoch 45/100: 100%|██████████| 196/196 [01:11<00:00,  2.72it/s, loss=1.5597, val_loss=1.8297, acc=0.9016, val_acc=0.6298]\n",
      "Epoch 46/100: 100%|██████████| 196/196 [01:12<00:00,  2.72it/s, loss=1.5570, val_loss=1.8264, acc=0.9045, val_acc=0.6304]\n",
      "Epoch 47/100: 100%|██████████| 196/196 [01:12<00:00,  2.72it/s, loss=1.5571, val_loss=1.8343, acc=0.9040, val_acc=0.6234]\n",
      "Epoch 48/100: 100%|██████████| 196/196 [01:11<00:00,  2.72it/s, loss=1.5580, val_loss=1.8328, acc=0.9030, val_acc=0.6250]\n",
      "Epoch 49/100: 100%|██████████| 196/196 [01:12<00:00,  2.72it/s, loss=1.5548, val_loss=1.8271, acc=0.9060, val_acc=0.6306]\n",
      "Epoch 50/100: 100%|██████████| 196/196 [01:12<00:00,  2.72it/s, loss=1.5550, val_loss=1.8332, acc=0.9058, val_acc=0.6249]\n",
      "Epoch 51/100: 100%|██████████| 196/196 [01:12<00:00,  2.72it/s, loss=1.5541, val_loss=1.8257, acc=0.9069, val_acc=0.6323]\n",
      "Epoch 52/100: 100%|██████████| 196/196 [01:11<00:00,  2.72it/s, loss=1.5576, val_loss=1.8341, acc=0.9033, val_acc=0.6230]\n",
      "Epoch 53/100: 100%|██████████| 196/196 [01:11<00:00,  2.72it/s, loss=1.5582, val_loss=1.8259, acc=0.9027, val_acc=0.6321]\n",
      "Epoch 54/100: 100%|██████████| 196/196 [01:11<00:00,  2.72it/s, loss=1.5533, val_loss=1.8234, acc=0.9076, val_acc=0.6327]\n",
      "Epoch 55/100: 100%|██████████| 196/196 [01:12<00:00,  2.72it/s, loss=1.5537, val_loss=1.8236, acc=0.9074, val_acc=0.6341]\n",
      "Epoch 56/100: 100%|██████████| 196/196 [01:11<00:00,  2.72it/s, loss=1.5518, val_loss=1.8272, acc=0.9092, val_acc=0.6325]\n",
      "Epoch 57/100: 100%|██████████| 196/196 [01:11<00:00,  2.72it/s, loss=1.5520, val_loss=1.8261, acc=0.9088, val_acc=0.6324]\n",
      "Epoch 58/100: 100%|██████████| 196/196 [01:11<00:00,  2.72it/s, loss=1.5481, val_loss=1.8322, acc=0.9129, val_acc=0.6267]\n",
      "Epoch 59/100: 100%|██████████| 196/196 [01:11<00:00,  2.72it/s, loss=1.5474, val_loss=1.8271, acc=0.9141, val_acc=0.6300]\n",
      "Epoch 60/100: 100%|██████████| 196/196 [01:11<00:00,  2.72it/s, loss=1.5475, val_loss=1.8322, acc=0.9136, val_acc=0.6250]\n",
      "Epoch 61/100: 100%|██████████| 196/196 [01:12<00:00,  2.72it/s, loss=1.5506, val_loss=1.8327, acc=0.9105, val_acc=0.6256]\n",
      "Epoch 62/100: 100%|██████████| 196/196 [01:11<00:00,  2.72it/s, loss=1.5498, val_loss=1.8269, acc=0.9113, val_acc=0.6291]\n",
      "Epoch 63/100: 100%|██████████| 196/196 [01:11<00:00,  2.72it/s, loss=1.5488, val_loss=1.8327, acc=0.9121, val_acc=0.6242]\n",
      "Epoch 64/100: 100%|██████████| 196/196 [01:11<00:00,  2.72it/s, loss=1.5464, val_loss=1.8258, acc=0.9145, val_acc=0.6324]\n",
      "Epoch 65/100: 100%|██████████| 196/196 [01:12<00:00,  2.72it/s, loss=1.5452, val_loss=1.8223, acc=0.9159, val_acc=0.6352]\n",
      "Epoch 66/100: 100%|██████████| 196/196 [01:12<00:00,  2.72it/s, loss=1.5446, val_loss=1.8191, acc=0.9162, val_acc=0.6400]\n",
      "Epoch 67/100: 100%|██████████| 196/196 [01:11<00:00,  2.72it/s, loss=1.5416, val_loss=1.8257, acc=0.9193, val_acc=0.6326]\n",
      "Epoch 68/100: 100%|██████████| 196/196 [01:11<00:00,  2.72it/s, loss=1.5390, val_loss=1.8215, acc=0.9220, val_acc=0.6373]\n",
      "Epoch 69/100: 100%|██████████| 196/196 [01:11<00:00,  2.72it/s, loss=1.5418, val_loss=1.8187, acc=0.9191, val_acc=0.6399]\n",
      "Epoch 70/100: 100%|██████████| 196/196 [01:12<00:00,  2.72it/s, loss=1.5396, val_loss=1.8309, acc=0.9214, val_acc=0.6275]\n",
      "Epoch 71/100: 100%|██████████| 196/196 [01:12<00:00,  2.72it/s, loss=1.5418, val_loss=1.8253, acc=0.9192, val_acc=0.6336]\n",
      "Epoch 72/100: 100%|██████████| 196/196 [01:11<00:00,  2.72it/s, loss=1.5399, val_loss=1.8267, acc=0.9215, val_acc=0.6331]\n",
      "Epoch 73/100: 100%|██████████| 196/196 [01:11<00:00,  2.72it/s, loss=1.5407, val_loss=1.8250, acc=0.9202, val_acc=0.6352]\n",
      "Epoch 74/100: 100%|██████████| 196/196 [01:11<00:00,  2.72it/s, loss=1.5428, val_loss=1.8292, acc=0.9183, val_acc=0.6292]\n",
      "Epoch 75/100: 100%|██████████| 196/196 [01:12<00:00,  2.72it/s, loss=1.5417, val_loss=1.8282, acc=0.9194, val_acc=0.6309]\n",
      "Epoch 76/100: 100%|██████████| 196/196 [01:12<00:00,  2.72it/s, loss=1.5410, val_loss=1.8335, acc=0.9200, val_acc=0.6239]\n",
      "Epoch 77/100: 100%|██████████| 196/196 [01:11<00:00,  2.72it/s, loss=1.5389, val_loss=1.8373, acc=0.9222, val_acc=0.6223]\n",
      "Epoch 78/100: 100%|██████████| 196/196 [01:12<00:00,  2.72it/s, loss=1.5389, val_loss=1.8319, acc=0.9221, val_acc=0.6258]\n",
      "Epoch 79/100: 100%|██████████| 196/196 [01:11<00:00,  2.72it/s, loss=1.5403, val_loss=1.8297, acc=0.9208, val_acc=0.6294]\n",
      "Epoch 80/100: 100%|██████████| 196/196 [01:11<00:00,  2.72it/s, loss=1.5406, val_loss=1.8356, acc=0.9206, val_acc=0.6239]\n",
      "Epoch 81/100: 100%|██████████| 196/196 [01:12<00:00,  2.72it/s, loss=1.5365, val_loss=1.8297, acc=0.9245, val_acc=0.6280]\n",
      "Epoch 82/100: 100%|██████████| 196/196 [01:12<00:00,  2.72it/s, loss=1.5384, val_loss=1.8316, acc=0.9225, val_acc=0.6273]\n",
      "Epoch 83/100: 100%|██████████| 196/196 [01:11<00:00,  2.72it/s, loss=1.5394, val_loss=1.8286, acc=0.9215, val_acc=0.6294]\n",
      "Epoch 84/100: 100%|██████████| 196/196 [01:12<00:00,  2.72it/s, loss=1.5377, val_loss=1.8290, acc=0.9232, val_acc=0.6300]\n",
      "Epoch 85/100: 100%|██████████| 196/196 [01:12<00:00,  2.72it/s, loss=1.5372, val_loss=1.8285, acc=0.9239, val_acc=0.6300]\n",
      "Epoch 86/100: 100%|██████████| 196/196 [01:12<00:00,  2.72it/s, loss=1.5372, val_loss=1.8203, acc=0.9237, val_acc=0.6370]\n",
      "Epoch 87/100: 100%|██████████| 196/196 [01:11<00:00,  2.72it/s, loss=1.5367, val_loss=1.8328, acc=0.9245, val_acc=0.6251]\n",
      "Epoch 88/100: 100%|██████████| 196/196 [01:12<00:00,  2.72it/s, loss=1.5354, val_loss=1.8283, acc=0.9255, val_acc=0.6315]\n",
      "Epoch 89/100: 100%|██████████| 196/196 [01:12<00:00,  3.60it/s, loss=1.5350, val_loss=1.8277, acc=0.9262, val_acc=0.6326]"
     ]
    },
    {
     "name": "stdout",
     "output_type": "stream",
     "text": [
      "The model stop at 89\n"
     ]
    }
   ],
   "source": [
    "history = {\n",
    "    \"epoch\" : [],\n",
    "    \"loss\" : [], \n",
    "    \"val_loss\" : [],\n",
    "    \"acc\" : [], \n",
    "    \"val_acc\" : []\n",
    "}\n",
    "\n",
    "for epoch in range(1, EPOCHS + 1):\n",
    "    epoch_pbar = tqdm(range(0, len(train_loader)), desc=f\"Epoch {epoch}/{EPOCHS}\")\n",
    "    epoch_train_loss = 0\n",
    "    epoch_val_loss = 0\n",
    "    train_acc = MulticlassAccuracy()\n",
    "    val_acc = MulticlassAccuracy()\n",
    "    \n",
    "    for sample in train_loader:\n",
    "        images, actual = sample\n",
    "        images = images.to(device)\n",
    "        actual = actual.to(device)\n",
    "        \n",
    "        pred = model(images.float())\n",
    "        optimizer.zero_grad()\n",
    "        _, pred_labels = torch.max(pred, dim=1)\n",
    "        train_acc.update(actual, pred_labels)\n",
    "        loss = criterion(pred, actual)\n",
    "        loss.backward()\n",
    "        optimizer.step()\n",
    "        epoch_train_loss += loss.item()\n",
    "        epoch_pbar.update(1)\n",
    "    epoch_train_loss /= len(train_loader)\n",
    "\n",
    "    with torch.no_grad():\n",
    "        for sample in val_loader:\n",
    "            images, actual = sample\n",
    "            images = images.to(device)\n",
    "            actual = actual.to(device)\n",
    "            pred = model(images.float())\n",
    "            _, pred_labels = torch.max(pred, dim=1)\n",
    "            val_acc.update(actual, pred_labels)\n",
    "            loss = criterion(pred, actual)\n",
    "            epoch_val_loss += loss.item()\n",
    "        epoch_val_loss /= len(val_loader)\n",
    "    \n",
    "    history[\"epoch\"].append(epoch)\n",
    "    history[\"val_loss\"].append(epoch_val_loss)\n",
    "    history[\"loss\"].append(epoch_train_loss)\n",
    "    history[\"val_acc\"].append(val_acc.compute().item())\n",
    "    history[\"acc\"].append(train_acc.compute().item())\n",
    "    \n",
    "    epoch_pbar.set_postfix({\n",
    "        \"loss\" : f\"{history['loss'][-1]:.4f}\",\n",
    "        \"val_loss\" : f\"{history['val_loss'][-1]:.4f}\",\n",
    "        \"acc\" : f\"{history['acc'][-1]:.4f}\",\n",
    "        \"val_acc\" : f\"{history['val_acc'][-1]:.4f}\",\n",
    "    })\n",
    "    \n",
    "    if early_stopping(epoch_val_loss):\n",
    "        print(f\"The model stop at {epoch}\")\n",
    "        break\n",
    "    \n",
    "    epoch_pbar.close()"
   ]
  },
  {
   "cell_type": "code",
   "execution_count": 15,
   "id": "2bf1384c",
   "metadata": {
    "execution": {
     "iopub.execute_input": "2024-02-15T09:18:12.768312Z",
     "iopub.status.busy": "2024-02-15T09:18:12.767871Z",
     "iopub.status.idle": "2024-02-15T09:18:13.278418Z",
     "shell.execute_reply": "2024-02-15T09:18:13.277226Z"
    },
    "papermill": {
     "duration": 2.025546,
     "end_time": "2024-02-15T09:18:13.280884",
     "exception": false,
     "start_time": "2024-02-15T09:18:11.255338",
     "status": "completed"
    },
    "tags": []
   },
   "outputs": [
    {
     "data": {
      "text/plain": [
       "<matplotlib.legend.Legend at 0x7c9f72f89360>"
      ]
     },
     "execution_count": 15,
     "metadata": {},
     "output_type": "execute_result"
    },
    {
     "data": {
      "image/png": "[encoded data removed]",
      "text/plain": [
       "<Figure size 640x480 with 1 Axes>"
      ]
     },
     "metadata": {},
     "output_type": "display_data"
    }
   ],
   "source": [
    "history_df = pd.DataFrame(history)\n",
    "\n",
    "plt.plot(history_df[\"epoch\"], history_df[\"loss\"])\n",
    "plt.plot(history_df[\"epoch\"], history_df[\"val_loss\"])\n",
    "plt.legend([\"loss\", \"val_loss\"])"
   ]
  },
  {
   "cell_type": "code",
   "execution_count": 16,
   "id": "f80de653",
   "metadata": {
    "execution": {
     "iopub.execute_input": "2024-02-15T09:18:16.391425Z",
     "iopub.status.busy": "2024-02-15T09:18:16.390529Z",
     "iopub.status.idle": "2024-02-15T09:18:16.702828Z",
     "shell.execute_reply": "2024-02-15T09:18:16.701763Z"
    },
    "papermill": {
     "duration": 1.820284,
     "end_time": "2024-02-15T09:18:16.705078",
     "exception": false,
     "start_time": "2024-02-15T09:18:14.884794",
     "status": "completed"
    },
    "tags": []
   },
   "outputs": [
    {
     "data": {
      "text/plain": [
       "<matplotlib.legend.Legend at 0x7c9f7019dde0>"
      ]
     },
     "execution_count": 16,
     "metadata": {},
     "output_type": "execute_result"
    },
    {
     "data": {
      "image/png": "[encoded data removed]",
      "text/plain": [
       "<Figure size 640x480 with 1 Axes>"
      ]
     },
     "metadata": {},
     "output_type": "display_data"
    }
   ],
   "source": [
    "plt.plot(history_df[\"epoch\"], history_df[\"acc\"])\n",
    "plt.plot(history_df[\"epoch\"], history_df[\"val_acc\"])\n",
    "plt.legend([\"acc\", \"val_acc\"])"
   ]
  },
  {
   "cell_type": "code",
   "execution_count": 17,
   "id": "9c583d18",
   "metadata": {
    "execution": {
     "iopub.execute_input": "2024-02-15T09:18:19.895017Z",
     "iopub.status.busy": "2024-02-15T09:18:19.894610Z",
     "iopub.status.idle": "2024-02-15T09:18:21.107284Z",
     "shell.execute_reply": "2024-02-15T09:18:21.105960Z"
    },
    "papermill": {
     "duration": 2.815213,
     "end_time": "2024-02-15T09:18:21.109627",
     "exception": false,
     "start_time": "2024-02-15T09:18:18.294414",
     "status": "completed"
    },
    "tags": []
   },
   "outputs": [
    {
     "name": "stdout",
     "output_type": "stream",
     "text": [
      "Accuracy: 0.6340\n"
     ]
    }
   ],
   "source": [
    "acc = MulticlassAccuracy()\n",
    "\n",
    "for sample in test_loader:\n",
    "    images, actual = sample\n",
    "    images = images.to(device)\n",
    "    actual = actual.to(device)\n",
    "    pred = model(images.float())\n",
    "    _, pred_labels = torch.max(pred, dim=1)\n",
    "    acc.update(actual, pred_labels)\n",
    "    \n",
    "print(f\"Accuracy: {acc.compute().item():.4f}\")"
   ]
  }
 ],
 "metadata": {
  "kaggle": {
   "accelerator": "gpu",
   "dataSources": [
    {
     "datasetId": 3442424,
     "sourceId": 6012800,
     "sourceType": "datasetVersion"
    }
   ],
   "dockerImageVersionId": 30626,
   "isGpuEnabled": true,
   "isInternetEnabled": true,
   "language": "python",
   "sourceType": "notebook"
  },
  "kernelspec": {
   "display_name": "Python 3",
   "language": "python",
   "name": "python3"
  },
  "language_info": {
   "codemirror_mode": {
    "name": "ipython",
    "version": 3
   },
   "file_extension": ".py",
   "mimetype": "text/x-python",
   "name": "python",
   "nbconvert_exporter": "python",
   "pygments_lexer": "ipython3",
   "version": "3.10.12"
  },
  "papermill": {
   "default_parameters": {},
   "duration": 6458.139433,
   "end_time": "2024-02-15T09:18:24.265721",
   "environment_variables": {},
   "exception": null,
   "input_path": "__notebook__.ipynb",
   "output_path": "__notebook__.ipynb",
   "parameters": {},
   "start_time": "2024-02-15T07:30:46.126288",
   "version": "2.4.0"
  }
 },
 "nbformat": 4,
 "nbformat_minor": 5
}
